{
 "cells": [
  {
   "cell_type": "markdown",
   "metadata": {
    "pycharm": {
     "name": "#%% md\n"
    }
   },
   "source": [
    "# Задание\n",
    "* Собрать информацию о всех строящихся объектах на сайте \"наш.дом.рф\"\n",
    "* Cохранить ее в pandas dataframe\n",
    "* Cохранить pandas dataframe в excel\n",
    "* Cохранить pandas dataframe в pickle\n",
    "* Cохранить pandas dataframe в БД\n",
    "\n",
    "# Задание *\n",
    "* Написать скрипт, который скачивает фотографии всех строящихся объектов с сайта \"наш.дом.рф\"\n"
   ]
  },
  {
   "cell_type": "code",
   "execution_count": 1,
   "metadata": {
    "jupyter": {
     "outputs_hidden": false
    },
    "pycharm": {
     "name": "#%%\n"
    }
   },
   "outputs": [],
   "source": [
    "#Импортирование библиотек\n",
    "import requests\n",
    "import pandas as pd\n",
    "import sqlite3\n",
    "import time"
   ]
  },
  {
   "cell_type": "code",
   "execution_count": 10,
   "metadata": {},
   "outputs": [],
   "source": [
    "#Создание подлкючения к базе данных\n",
    "conn = sqlite3.connect('our_home_data')\n",
    "all_result = []\n"
   ]
  },
  {
   "cell_type": "markdown",
   "metadata": {
    "pycharm": {
     "name": "#%% md\n"
    }
   },
   "source": [
    "## Список объектов"
   ]
  },
  {
   "cell_type": "code",
   "execution_count": 3,
   "metadata": {
    "jupyter": {
     "outputs_hidden": false
    },
    "pycharm": {
     "name": "#%%\n"
    }
   },
   "outputs": [],
   "source": [
    "def api_get(offset_, limit_):\n",
    "    url = f'https://xn--80az8a.xn--d1aqf.xn--p1ai/%D1%81%D0%B5%D1%80%D0%B2%D0%B8%D1%81%D1%8B/api/kn/object?offset={offset_}&limit={limit_}&sortField=devId.devShortCleanNm&sortType=asc&objStatus=0'\n",
    "    res = requests.get(url)\n",
    "    objects_data = res.json()\n",
    "    objects_data.keys()\n",
    "    objects_data.get('data').keys()\n",
    "    objects_data.get('data').get('list')\n",
    "    objects_list = objects_data.get('data').get('list')\n",
    "    objids = [x.get('objId') for x in objects_list]\n",
    "    return objids"
   ]
  },
  {
   "cell_type": "code",
   "execution_count": 4,
   "metadata": {
    "scrolled": false
   },
   "outputs": [
    {
     "data": {
      "text/plain": [
       "10526"
      ]
     },
     "execution_count": 4,
     "metadata": {},
     "output_type": "execute_result"
    }
   ],
   "source": [
    "all_result.extend(api_get (0, 5000))\n",
    "all_result.extend(api_get (5001, 5000))\n",
    "all_result.extend(api_get (10001, 5000))\n",
    "len(all_result)"
   ]
  },
  {
   "cell_type": "markdown",
   "metadata": {
    "pycharm": {
     "name": "#%% md\n"
    }
   },
   "source": [
    "# Данные по определенному объекту"
   ]
  },
  {
   "cell_type": "code",
   "execution_count": 5,
   "metadata": {
    "jupyter": {
     "outputs_hidden": false
    },
    "pycharm": {
     "name": "#%%\n"
    },
    "scrolled": true
   },
   "outputs": [
    {
     "name": "stdout",
     "output_type": "stream",
     "text": [
      "ошибка получения данных с сервера\n",
      "ошибка получения данных с сервера\n",
      "ошибка получения данных с сервера\n",
      "ошибка получения данных с сервера\n",
      "ошибка получения данных с сервера\n"
     ]
    }
   ],
   "source": [
    "data = []\n",
    "\n",
    "for i in range(len(all_result)):\n",
    "    try:\n",
    "        url = f'https://xn--80az8a.xn--d1aqf.xn--p1ai/%D1%81%D0%B5%D1%80%D0%B2%D0%B8%D1%81%D1%8B/api/object/{all_result[i]}'\n",
    "        res = requests.get(url)\n",
    "        data.append (res.json())\n",
    "    except:\n",
    "        print ('ошибка получения данных с сервера')\n",
    "        pass"
   ]
  },
  {
   "cell_type": "code",
   "execution_count": 6,
   "metadata": {
    "jupyter": {
     "outputs_hidden": false
    },
    "pycharm": {
     "name": "#%%\n"
    },
    "scrolled": true
   },
   "outputs": [],
   "source": [
    "data_norm = pd.json_normalize(data, max_level = 15)"
   ]
  },
  {
   "cell_type": "code",
   "execution_count": 7,
   "metadata": {},
   "outputs": [
    {
     "data": {
      "text/html": [
       "<div>\n",
       "<style scoped>\n",
       "    .dataframe tbody tr th:only-of-type {\n",
       "        vertical-align: middle;\n",
       "    }\n",
       "\n",
       "    .dataframe tbody tr th {\n",
       "        vertical-align: top;\n",
       "    }\n",
       "\n",
       "    .dataframe thead th {\n",
       "        text-align: right;\n",
       "    }\n",
       "</style>\n",
       "<table border=\"1\" class=\"dataframe\">\n",
       "  <thead>\n",
       "    <tr style=\"text-align: right;\">\n",
       "      <th></th>\n",
       "      <th>errcode</th>\n",
       "      <th>data.id</th>\n",
       "      <th>data.pdId</th>\n",
       "      <th>data.developer.devId</th>\n",
       "      <th>data.developer.devShortCleanNm</th>\n",
       "      <th>data.developer.devShortNm</th>\n",
       "      <th>data.developer.devFullCleanNm</th>\n",
       "      <th>data.developer.problObjCnt</th>\n",
       "      <th>data.developer.buildObjCnt</th>\n",
       "      <th>data.developer.comissObjCnt</th>\n",
       "      <th>...</th>\n",
       "      <th>data.developer.bankruptStage.bankruptStageDesc</th>\n",
       "      <th>data.developer.bankruptStage.bankruptLawUrl</th>\n",
       "      <th>data.developer.orgBankruptMsgDttm</th>\n",
       "      <th>data.metro.id</th>\n",
       "      <th>data.metro.name</th>\n",
       "      <th>data.metro.line</th>\n",
       "      <th>data.metro.color</th>\n",
       "      <th>data.metro.time</th>\n",
       "      <th>data.metro.isWalk</th>\n",
       "      <th>data.metro.colors</th>\n",
       "    </tr>\n",
       "  </thead>\n",
       "  <tbody>\n",
       "    <tr>\n",
       "      <th>0</th>\n",
       "      <td>0</td>\n",
       "      <td>29679</td>\n",
       "      <td>124647</td>\n",
       "      <td>7424</td>\n",
       "      <td>212-2</td>\n",
       "      <td>212-2</td>\n",
       "      <td>212-2</td>\n",
       "      <td>0</td>\n",
       "      <td>2</td>\n",
       "      <td>0</td>\n",
       "      <td>...</td>\n",
       "      <td>NaN</td>\n",
       "      <td>NaN</td>\n",
       "      <td>NaN</td>\n",
       "      <td>NaN</td>\n",
       "      <td>NaN</td>\n",
       "      <td>NaN</td>\n",
       "      <td>NaN</td>\n",
       "      <td>NaN</td>\n",
       "      <td>NaN</td>\n",
       "      <td>NaN</td>\n",
       "    </tr>\n",
       "    <tr>\n",
       "      <th>1</th>\n",
       "      <td>0</td>\n",
       "      <td>29678</td>\n",
       "      <td>124648</td>\n",
       "      <td>7424</td>\n",
       "      <td>212-2</td>\n",
       "      <td>212-2</td>\n",
       "      <td>212-2</td>\n",
       "      <td>0</td>\n",
       "      <td>2</td>\n",
       "      <td>0</td>\n",
       "      <td>...</td>\n",
       "      <td>NaN</td>\n",
       "      <td>NaN</td>\n",
       "      <td>NaN</td>\n",
       "      <td>NaN</td>\n",
       "      <td>NaN</td>\n",
       "      <td>NaN</td>\n",
       "      <td>NaN</td>\n",
       "      <td>NaN</td>\n",
       "      <td>NaN</td>\n",
       "      <td>NaN</td>\n",
       "    </tr>\n",
       "    <tr>\n",
       "      <th>2</th>\n",
       "      <td>0</td>\n",
       "      <td>13383</td>\n",
       "      <td>28105</td>\n",
       "      <td>306</td>\n",
       "      <td>2МЕН ГРУПП</td>\n",
       "      <td>2МЕН ГРУПП</td>\n",
       "      <td>2МЕН ГРУПП</td>\n",
       "      <td>0</td>\n",
       "      <td>5</td>\n",
       "      <td>0</td>\n",
       "      <td>...</td>\n",
       "      <td>NaN</td>\n",
       "      <td>NaN</td>\n",
       "      <td>NaN</td>\n",
       "      <td>NaN</td>\n",
       "      <td>NaN</td>\n",
       "      <td>NaN</td>\n",
       "      <td>NaN</td>\n",
       "      <td>NaN</td>\n",
       "      <td>NaN</td>\n",
       "      <td>NaN</td>\n",
       "    </tr>\n",
       "    <tr>\n",
       "      <th>3</th>\n",
       "      <td>0</td>\n",
       "      <td>13397</td>\n",
       "      <td>28141</td>\n",
       "      <td>306</td>\n",
       "      <td>2МЕН ГРУПП</td>\n",
       "      <td>2МЕН ГРУПП</td>\n",
       "      <td>2МЕН ГРУПП</td>\n",
       "      <td>0</td>\n",
       "      <td>5</td>\n",
       "      <td>0</td>\n",
       "      <td>...</td>\n",
       "      <td>NaN</td>\n",
       "      <td>NaN</td>\n",
       "      <td>NaN</td>\n",
       "      <td>NaN</td>\n",
       "      <td>NaN</td>\n",
       "      <td>NaN</td>\n",
       "      <td>NaN</td>\n",
       "      <td>NaN</td>\n",
       "      <td>NaN</td>\n",
       "      <td>NaN</td>\n",
       "    </tr>\n",
       "    <tr>\n",
       "      <th>4</th>\n",
       "      <td>0</td>\n",
       "      <td>13399</td>\n",
       "      <td>28141</td>\n",
       "      <td>306</td>\n",
       "      <td>2МЕН ГРУПП</td>\n",
       "      <td>2МЕН ГРУПП</td>\n",
       "      <td>2МЕН ГРУПП</td>\n",
       "      <td>0</td>\n",
       "      <td>5</td>\n",
       "      <td>0</td>\n",
       "      <td>...</td>\n",
       "      <td>NaN</td>\n",
       "      <td>NaN</td>\n",
       "      <td>NaN</td>\n",
       "      <td>NaN</td>\n",
       "      <td>NaN</td>\n",
       "      <td>NaN</td>\n",
       "      <td>NaN</td>\n",
       "      <td>NaN</td>\n",
       "      <td>NaN</td>\n",
       "      <td>NaN</td>\n",
       "    </tr>\n",
       "  </tbody>\n",
       "</table>\n",
       "<p>5 rows × 109 columns</p>\n",
       "</div>"
      ],
      "text/plain": [
       "  errcode  data.id  data.pdId  data.developer.devId  \\\n",
       "0       0    29679     124647                  7424   \n",
       "1       0    29678     124648                  7424   \n",
       "2       0    13383      28105                   306   \n",
       "3       0    13397      28141                   306   \n",
       "4       0    13399      28141                   306   \n",
       "\n",
       "  data.developer.devShortCleanNm data.developer.devShortNm  \\\n",
       "0                          212-2                     212-2   \n",
       "1                          212-2                     212-2   \n",
       "2                     2МЕН ГРУПП                2МЕН ГРУПП   \n",
       "3                     2МЕН ГРУПП                2МЕН ГРУПП   \n",
       "4                     2МЕН ГРУПП                2МЕН ГРУПП   \n",
       "\n",
       "  data.developer.devFullCleanNm  data.developer.problObjCnt  \\\n",
       "0                         212-2                           0   \n",
       "1                         212-2                           0   \n",
       "2                    2МЕН ГРУПП                           0   \n",
       "3                    2МЕН ГРУПП                           0   \n",
       "4                    2МЕН ГРУПП                           0   \n",
       "\n",
       "   data.developer.buildObjCnt  data.developer.comissObjCnt  ...  \\\n",
       "0                           2                            0  ...   \n",
       "1                           2                            0  ...   \n",
       "2                           5                            0  ...   \n",
       "3                           5                            0  ...   \n",
       "4                           5                            0  ...   \n",
       "\n",
       "  data.developer.bankruptStage.bankruptStageDesc  \\\n",
       "0                                            NaN   \n",
       "1                                            NaN   \n",
       "2                                            NaN   \n",
       "3                                            NaN   \n",
       "4                                            NaN   \n",
       "\n",
       "  data.developer.bankruptStage.bankruptLawUrl  \\\n",
       "0                                         NaN   \n",
       "1                                         NaN   \n",
       "2                                         NaN   \n",
       "3                                         NaN   \n",
       "4                                         NaN   \n",
       "\n",
       "  data.developer.orgBankruptMsgDttm data.metro.id data.metro.name  \\\n",
       "0                               NaN           NaN             NaN   \n",
       "1                               NaN           NaN             NaN   \n",
       "2                               NaN           NaN             NaN   \n",
       "3                               NaN           NaN             NaN   \n",
       "4                               NaN           NaN             NaN   \n",
       "\n",
       "  data.metro.line data.metro.color data.metro.time data.metro.isWalk  \\\n",
       "0             NaN              NaN             NaN               NaN   \n",
       "1             NaN              NaN             NaN               NaN   \n",
       "2             NaN              NaN             NaN               NaN   \n",
       "3             NaN              NaN             NaN               NaN   \n",
       "4             NaN              NaN             NaN               NaN   \n",
       "\n",
       "   data.metro.colors  \n",
       "0                NaN  \n",
       "1                NaN  \n",
       "2                NaN  \n",
       "3                NaN  \n",
       "4                NaN  \n",
       "\n",
       "[5 rows x 109 columns]"
      ]
     },
     "execution_count": 7,
     "metadata": {},
     "output_type": "execute_result"
    }
   ],
   "source": [
    "data_norm.head(5)"
   ]
  },
  {
   "cell_type": "code",
   "execution_count": 8,
   "metadata": {},
   "outputs": [],
   "source": [
    "data_norm = data_norm.drop(columns=['data.photoRenderDTO'])\n",
    "data_norm = data_norm.drop(columns=['data.objectTransportInfo'])"
   ]
  },
  {
   "cell_type": "markdown",
   "metadata": {},
   "source": [
    "# Cохранение в различных форматах"
   ]
  },
  {
   "cell_type": "code",
   "execution_count": null,
   "metadata": {},
   "outputs": [],
   "source": [
    "data_norm = data_norm.applymap(str)"
   ]
  },
  {
   "cell_type": "code",
   "execution_count": 11,
   "metadata": {
    "jupyter": {
     "outputs_hidden": false
    },
    "pycharm": {
     "name": "#%%\n"
    }
   },
   "outputs": [
    {
     "data": {
      "text/plain": [
       "<function Connection.close>"
      ]
     },
     "execution_count": 11,
     "metadata": {},
     "output_type": "execute_result"
    }
   ],
   "source": [
    "data_norm.to_sql('building', conn, if_exists = 'replace', index = False)\n",
    "conn.commit()\n",
    "conn.close"
   ]
  },
  {
   "cell_type": "code",
   "execution_count": 12,
   "metadata": {
    "scrolled": true
   },
   "outputs": [],
   "source": [
    "data_norm.to_pickle('our_home_data.pkl')"
   ]
  },
  {
   "cell_type": "code",
   "execution_count": 13,
   "metadata": {},
   "outputs": [],
   "source": [
    "data_norm.to_excel('our_home_data.xlsx')"
   ]
  },
  {
   "cell_type": "markdown",
   "metadata": {},
   "source": [
    "# Получение изображений"
   ]
  },
  {
   "cell_type": "code",
   "execution_count": 14,
   "metadata": {
    "scrolled": true
   },
   "outputs": [],
   "source": [
    "def download_png(id_):\n",
    "    try:\n",
    "        url = f'https://xn--80az8a.xn--d1aqf.xn--p1ai/%D1%81%D0%B5%D1%80%D0%B2%D0%B8%D1%81%D1%8B/api/object/' + str(id_)\n",
    "        res = requests.get(url)\n",
    "        objects_data = res.json()\n",
    "        objects_data.keys()\n",
    "        url = objects_data['data']['photoRenderDTO'][0]['objRenderPhotoUrl']\n",
    "        res = requests.get(url)\n",
    "        out = open(str(id_)+\".jpg\", \"wb\")\n",
    "        out.write(res.content)\n",
    "        out.close()\n",
    "    except:\n",
    "        pass"
   ]
  },
  {
   "cell_type": "code",
   "execution_count": 19,
   "metadata": {},
   "outputs": [
    {
     "data": {
      "text/plain": [
       "[]"
      ]
     },
     "execution_count": 19,
     "metadata": {},
     "output_type": "execute_result"
    }
   ],
   "source": [
    "#В данный момент стоит ограничение на скачивание картинок\n",
    "for i in range (0,20):\n",
    "    download_png(all_result[i])"
   ]
  }
 ],
 "metadata": {
  "kernelspec": {
   "display_name": "Python 3",
   "language": "python",
   "name": "python3"
  },
  "language_info": {
   "codemirror_mode": {
    "name": "ipython",
    "version": 3
   },
   "file_extension": ".py",
   "mimetype": "text/x-python",
   "name": "python",
   "nbconvert_exporter": "python",
   "pygments_lexer": "ipython3",
   "version": "3.8.5"
  }
 },
 "nbformat": 4,
 "nbformat_minor": 4
}
