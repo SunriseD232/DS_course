{
 "cells": [
  {
   "cell_type": "markdown",
   "metadata": {
    "pycharm": {
     "name": "#%% md\n"
    }
   },
   "source": [
    "# Задание\n",
    "Собрать информацию о всех строящихся объектах на сайте \"наш.дом.рф\"\n",
    "Cохранить результаты в pandas dataframe\n",
    "\n",
    "Проверить состояние датафрейма и привести его в формат, позволяющий дальнейшее исследование данных: -- Привести колонки датафрейма к одному типу данных -- Проверить индекс, чтобы он соответствовал порядку строк -- Проверить наличие пропусков и в случае обнаружения, определить стратегию их обработки\n",
    "\n",
    "Провести мини-исследование рынка строящейся недвижимости в одном или нескольких регионах с помощью pandas, matplotlib, seaborn, plotly и других инструментов.\n",
    "\n",
    "-- Рассчитать средние цены за квадратный метр по регионам. Важно чтобы пропуски не учитывались при расчете средней цены. \n",
    "\n",
    "-- Рассчитать объемы вводимого жилья по регионам и по годам. \n",
    "\n",
    "-- Сравнить этажность домов, количество квартир, жилую площадь, количество парковочных мест и цену за квадратный метр в разных регионах \n",
    "\n",
    "-- Визуализировать разброс, связь и распределение этих показателей по регионам \n",
    "\n",
    "-- Сделать выводы по каждому из расчетов и графиков"
   ]
  },
  {
   "cell_type": "code",
   "execution_count": 8,
   "metadata": {
    "jupyter": {
     "outputs_hidden": false
    },
    "pycharm": {
     "name": "#%%\n"
    }
   },
   "outputs": [],
   "source": [
    "#Импортирование библиотек\n",
    "import requests\n",
    "import pandas as pd\n",
    "import sqlite3\n",
    "import matplotlib.pyplot as plt\n",
    "%matplotlib inline"
   ]
  },
  {
   "cell_type": "code",
   "execution_count": 9,
   "metadata": {},
   "outputs": [],
   "source": [
    "missing_values = [\"nan\",'N/A']\n",
    "df = pd.read_csv('our_home_data.csv', na_values = missing_values)\n",
    "pd.set_option('display.max_columns', None)"
   ]
  },
  {
   "cell_type": "markdown",
   "metadata": {},
   "source": [
    "# Просмотр DataSet"
   ]
  },
  {
   "cell_type": "code",
   "execution_count": null,
   "metadata": {
    "scrolled": true
   },
   "outputs": [],
   "source": [
    "df.shape"
   ]
  },
  {
   "cell_type": "code",
   "execution_count": null,
   "metadata": {},
   "outputs": [],
   "source": [
    "df.head(50)"
   ]
  },
  {
   "cell_type": "code",
   "execution_count": null,
   "metadata": {
    "scrolled": true
   },
   "outputs": [],
   "source": [
    "df.dtypes"
   ]
  },
  {
   "cell_type": "code",
   "execution_count": null,
   "metadata": {},
   "outputs": [],
   "source": [
    "df.describe()"
   ]
  },
  {
   "cell_type": "markdown",
   "metadata": {},
   "source": [
    "# Чистка"
   ]
  },
  {
   "cell_type": "markdown",
   "metadata": {},
   "source": [
    "Удаление стобцов, где находится более 50% пустых ячеек"
   ]
  },
  {
   "cell_type": "code",
   "execution_count": 10,
   "metadata": {},
   "outputs": [],
   "source": [
    "df = df.drop(columns = 'data.developer.bankruptStage.bankruptStageCd')\n",
    "df = df.drop(columns = 'data.developer.bankruptStage.bankruptStageDesc')\n",
    "df = df.drop(columns = 'data.developer.bankruptStage.bankruptLawUrl')\n",
    "df = df.drop(columns = 'data.developer.orgBankruptMsgDttm')\n",
    "df = df.drop(columns = 'data.metro.id')\n",
    "df = df.drop(columns = 'data.metro.name')\n",
    "df = df.drop(columns = 'data.metro.line')\n",
    "df = df.drop(columns = 'data.metro.color')\n",
    "df = df.drop(columns = 'data.metro.time')\n",
    "df = df.drop(columns = 'data.metro.isWalk')\n",
    "df = df.drop(columns = 'data.metro.colors')\n",
    "df = df.drop(columns = 'data.transportDistIndexValue')\n",
    "df = df.drop(columns = 'data.photoRenderDTO')\n",
    "df = df.drop(columns = 'data.objectTransportInfo')"
   ]
  },
  {
   "cell_type": "markdown",
   "metadata": {},
   "source": [
    "Очистка строк с NaN из-за невозможности восстановления данных для подзадачи 1"
   ]
  },
  {
   "cell_type": "code",
   "execution_count": 16,
   "metadata": {
    "scrolled": true
   },
   "outputs": [],
   "source": [
    "df_avg_P = df.dropna(subset=['data.objPriceAvg','data.developer.regRegionDesc'])"
   ]
  },
  {
   "cell_type": "markdown",
   "metadata": {},
   "source": [
    "Также можно использовать очистку всех строк, где имеются NaN"
   ]
  },
  {
   "cell_type": "code",
   "execution_count": null,
   "metadata": {},
   "outputs": [],
   "source": [
    "df.dropna(axis=0,inplace=True, how='all')"
   ]
  },
  {
   "cell_type": "markdown",
   "metadata": {},
   "source": [
    "# Анализ Данных"
   ]
  },
  {
   "cell_type": "markdown",
   "metadata": {},
   "source": [
    "### Рассчитать средние цены за квадратный метр по регионам. Важно чтобы пропуски не учитывались при расчете средней цены."
   ]
  },
  {
   "cell_type": "code",
   "execution_count": 23,
   "metadata": {},
   "outputs": [],
   "source": [
    "a = df.groupby('data.developer.regRegionDesc').mean()"
   ]
  },
  {
   "cell_type": "code",
   "execution_count": 26,
   "metadata": {
    "scrolled": false
   },
   "outputs": [
    {
     "data": {
      "text/plain": [
       "data.developer.regRegionDesc\n",
       "Адыгея Республика         59190.950000\n",
       "Алтай Республика          58022.000000\n",
       "Алтайский край            70012.280488\n",
       "Амурская область         111318.333333\n",
       "Архангельская область     86164.833333\n",
       "Name: data.objPriceAvg, dtype: float64"
      ]
     },
     "execution_count": 26,
     "metadata": {},
     "output_type": "execute_result"
    }
   ],
   "source": [
    "a['data.objPriceAvg'].head(5)"
   ]
  },
  {
   "cell_type": "markdown",
   "metadata": {},
   "source": [
    "### Рассчитать объемы вводимого жилья по регионам и по годам"
   ]
  },
  {
   "cell_type": "code",
   "execution_count": null,
   "metadata": {},
   "outputs": [],
   "source": []
  },
  {
   "cell_type": "markdown",
   "metadata": {},
   "source": [
    "# Возможно будет нужно"
   ]
  },
  {
   "cell_type": "markdown",
   "metadata": {},
   "source": [
    "Регион - data.developer.regRegionDesc\n",
    "Средняя цена по региону - data.objPriceAvg"
   ]
  },
  {
   "cell_type": "markdown",
   "metadata": {},
   "source": [
    "Восстановление данных для подсчета цены за кв.м в разных регионах не является корректной.\n"
   ]
  },
  {
   "cell_type": "code",
   "execution_count": 6,
   "metadata": {},
   "outputs": [],
   "source": [
    "df['data.objPriceAvg'].fillna(df['data.objPriceAvg'].median(), inplace=True)"
   ]
  }
 ],
 "metadata": {
  "kernelspec": {
   "display_name": "Python 3",
   "language": "python",
   "name": "python3"
  },
  "language_info": {
   "codemirror_mode": {
    "name": "ipython",
    "version": 3
   },
   "file_extension": ".py",
   "mimetype": "text/x-python",
   "name": "python",
   "nbconvert_exporter": "python",
   "pygments_lexer": "ipython3",
   "version": "3.8.5"
  }
 },
 "nbformat": 4,
 "nbformat_minor": 4
}
