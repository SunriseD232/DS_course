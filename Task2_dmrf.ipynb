{
 "cells": [
  {
   "cell_type": "markdown",
   "metadata": {
    "pycharm": {
     "name": "#%% md\n"
    }
   },
   "source": [
    "# Задание\n",
    "Собрать информацию о всех строящихся объектах на сайте \"наш.дом.рф\"\n",
    "Cохранить результаты в pandas dataframe\n",
    "\n",
    "Проверить состояние датафрейма и привести его в формат, позволяющий дальнейшее исследование данных: -- Привести колонки датафрейма к одному типу данных -- Проверить индекс, чтобы он соответствовал порядку строк -- Проверить наличие пропусков и в случае обнаружения, определить стратегию их обработки\n",
    "\n",
    "Провести мини-исследование рынка строящейся недвижимости в одном или нескольких регионах с помощью pandas, matplotlib, seaborn, plotly и других инструментов.\n",
    "\n",
    "-- Рассчитать средние цены за квадратный метр по регионам. Важно чтобы пропуски не учитывались при расчете средней цены. \n",
    "\n",
    "-- Рассчитать объемы вводимого жилья по регионам и по годам. \n",
    "\n",
    "-- Сравнить этажность домов, количество квартир, жилую площадь, количество парковочных мест и цену за квадратный метр в разных регионах \n",
    "\n",
    "-- Визуализировать разброс, связь и распределение этих показателей по регионам \n",
    "\n",
    "-- Сделать выводы по каждому из расчетов и графиков"
   ]
  },
  {
   "cell_type": "code",
   "execution_count": 1,
   "metadata": {
    "jupyter": {
     "outputs_hidden": false
    },
    "pycharm": {
     "name": "#%%\n"
    }
   },
   "outputs": [],
   "source": [
    "#Импортирование библиотек\n",
    "import requests\n",
    "import pandas as pd\n",
    "import sqlite3\n",
    "import matplotlib.pyplot as plt\n",
    "%matplotlib inline"
   ]
  },
  {
   "cell_type": "code",
   "execution_count": 2,
   "metadata": {},
   "outputs": [],
   "source": [
    "missing_values = [\"nan\",'N/A']\n",
    "df = pd.read_csv('our_home_data.csv', na_values = missing_values)\n",
    "pd.set_option('display.max_columns', None)"
   ]
  },
  {
   "cell_type": "markdown",
   "metadata": {},
   "source": [
    "# Просмотр DataSet"
   ]
  },
  {
   "cell_type": "code",
   "execution_count": null,
   "metadata": {
    "scrolled": true
   },
   "outputs": [],
   "source": [
    "df.shape"
   ]
  },
  {
   "cell_type": "code",
   "execution_count": null,
   "metadata": {},
   "outputs": [],
   "source": [
    "df.head(50)"
   ]
  },
  {
   "cell_type": "code",
   "execution_count": null,
   "metadata": {
    "scrolled": true
   },
   "outputs": [],
   "source": [
    "df.dtypes"
   ]
  },
  {
   "cell_type": "code",
   "execution_count": null,
   "metadata": {},
   "outputs": [],
   "source": [
    "df.describe()"
   ]
  },
  {
   "cell_type": "markdown",
   "metadata": {},
   "source": [
    "# Чистка"
   ]
  },
  {
   "cell_type": "markdown",
   "metadata": {},
   "source": [
    "Удаление стобцов, где находится более 50% пустых ячеек"
   ]
  },
  {
   "cell_type": "code",
   "execution_count": 3,
   "metadata": {},
   "outputs": [],
   "source": [
    "df = df.drop(columns = 'data.developer.bankruptStage.bankruptStageCd')\n",
    "df = df.drop(columns = 'data.developer.bankruptStage.bankruptStageDesc')\n",
    "df = df.drop(columns = 'data.developer.bankruptStage.bankruptLawUrl')\n",
    "df = df.drop(columns = 'data.developer.orgBankruptMsgDttm')\n",
    "df = df.drop(columns = 'data.metro.id')\n",
    "df = df.drop(columns = 'data.metro.name')\n",
    "df = df.drop(columns = 'data.metro.line')\n",
    "df = df.drop(columns = 'data.metro.color')\n",
    "df = df.drop(columns = 'data.metro.time')\n",
    "df = df.drop(columns = 'data.metro.isWalk')\n",
    "df = df.drop(columns = 'data.metro.colors')\n",
    "df = df.drop(columns = 'data.transportDistIndexValue')\n",
    "df = df.drop(columns = 'data.photoRenderDTO')\n",
    "df = df.drop(columns = 'data.objectTransportInfo')"
   ]
  },
  {
   "cell_type": "markdown",
   "metadata": {},
   "source": [
    "Очистка строк с NaN из-за невозможности восстановления данных для подзадачи 1"
   ]
  },
  {
   "cell_type": "code",
   "execution_count": 4,
   "metadata": {
    "scrolled": false
   },
   "outputs": [],
   "source": [
    "df_avg_P = df.dropna(subset=['data.objPriceAvg','data.developer.regRegionDesc','data.objReady100PercDt'])"
   ]
  },
  {
   "cell_type": "markdown",
   "metadata": {},
   "source": [
    "Также можно использовать очистку всех строк, где имеются NaN"
   ]
  },
  {
   "cell_type": "code",
   "execution_count": null,
   "metadata": {},
   "outputs": [],
   "source": [
    "df.dropna(axis=0,inplace=True, how='all')"
   ]
  },
  {
   "cell_type": "markdown",
   "metadata": {},
   "source": [
    "# Анализ Данных"
   ]
  },
  {
   "cell_type": "markdown",
   "metadata": {},
   "source": [
    "### Рассчитать средние цены за квадратный метр по регионам. Важно чтобы пропуски не учитывались при расчете средней цены."
   ]
  },
  {
   "cell_type": "code",
   "execution_count": 5,
   "metadata": {},
   "outputs": [],
   "source": [
    "avg_price_region = df.groupby('data.developer.regRegionDesc').mean()"
   ]
  },
  {
   "cell_type": "code",
   "execution_count": 12,
   "metadata": {
    "scrolled": false
   },
   "outputs": [
    {
     "data": {
      "text/plain": [
       "data.developer.regRegionDesc\n",
       "Адыгея Республика           59190.950000\n",
       "Алтай Республика            58022.000000\n",
       "Алтайский край              70012.280488\n",
       "Амурская область           111318.333333\n",
       "Архангельская область       86164.833333\n",
       "Астраханская область        72016.904762\n",
       "Башкортостан Республика     75488.380208\n",
       "Белгородская область        78356.300000\n",
       "Брянская область            58450.020833\n",
       "Бурятия Республика          58961.035714\n",
       "Name: data.objPriceAvg, dtype: float64"
      ]
     },
     "execution_count": 12,
     "metadata": {},
     "output_type": "execute_result"
    }
   ],
   "source": [
    "avg_price_region['data.objPriceAvg'].head(10)"
   ]
  },
  {
   "cell_type": "markdown",
   "metadata": {},
   "source": [
    "### Рассчитать объемы вводимого жилья по регионам и по годам"
   ]
  },
  {
   "cell_type": "code",
   "execution_count": 13,
   "metadata": {},
   "outputs": [],
   "source": [
    "data_prepare = df"
   ]
  },
  {
   "cell_type": "code",
   "execution_count": 14,
   "metadata": {},
   "outputs": [],
   "source": [
    "c = 0\n",
    "date_data = []\n",
    "for i in test['data.objReady100PercDt']:\n",
    "    if i not in date_data:\n",
    "        date_data.append(i)\n",
    "\n",
    "for i in date_data:\n",
    "    data_prepare = data_prepare.replace(i,i[:4:])"
   ]
  },
  {
   "cell_type": "code",
   "execution_count": 15,
   "metadata": {},
   "outputs": [],
   "source": [
    "count_data = data_prepare.groupby(['data.developer.regRegionDesc','data.objReady100PercDt']).count()"
   ]
  },
  {
   "cell_type": "code",
   "execution_count": 17,
   "metadata": {
    "scrolled": true
   },
   "outputs": [
    {
     "data": {
      "text/plain": [
       "data.developer.regRegionDesc  data.objReady100PercDt\n",
       "Адыгея Республика             2022                       8\n",
       "                              2023                       7\n",
       "                              2024                       9\n",
       "                              2025                       6\n",
       "                              2026                       1\n",
       "                                                        ..\n",
       "Ярославская область           2021                       3\n",
       "                              2022                      26\n",
       "                              2023                      42\n",
       "                              2024                      17\n",
       "                              2025                       5\n",
       "Name: data.id, Length: 423, dtype: int64"
      ]
     },
     "execution_count": 17,
     "metadata": {},
     "output_type": "execute_result"
    }
   ],
   "source": [
    "count_data['data.id']"
   ]
  },
  {
   "cell_type": "markdown",
   "metadata": {},
   "source": [
    "# Визуализация"
   ]
  },
  {
   "cell_type": "code",
   "execution_count": null,
   "metadata": {},
   "outputs": [],
   "source": []
  },
  {
   "cell_type": "markdown",
   "metadata": {},
   "source": [
    "# Возможно будет нужно"
   ]
  },
  {
   "cell_type": "markdown",
   "metadata": {},
   "source": [
    "Регион - data.developer.regRegionDesc\n",
    "Средняя цена по региону - data.objPriceAvg"
   ]
  },
  {
   "cell_type": "markdown",
   "metadata": {},
   "source": [
    "Восстановление данных для подсчета цены за кв.м в разных регионах не является корректной.\n"
   ]
  },
  {
   "cell_type": "code",
   "execution_count": null,
   "metadata": {},
   "outputs": [],
   "source": [
    "df['data.objPriceAvg'].fillna(df['data.objPriceAvg'].median(), inplace=True)"
   ]
  }
 ],
 "metadata": {
  "kernelspec": {
   "display_name": "Python 3",
   "language": "python",
   "name": "python3"
  },
  "language_info": {
   "codemirror_mode": {
    "name": "ipython",
    "version": 3
   },
   "file_extension": ".py",
   "mimetype": "text/x-python",
   "name": "python",
   "nbconvert_exporter": "python",
   "pygments_lexer": "ipython3",
   "version": "3.8.5"
  }
 },
 "nbformat": 4,
 "nbformat_minor": 4
}
